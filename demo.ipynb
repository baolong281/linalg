{
 "cells": [
  {
   "cell_type": "markdown",
   "id": "5f6449d5-6ae9-44de-b148-8f9e10adeff8",
   "metadata": {},
   "source": [
    "# Linalg Demo\n",
    "\n",
    "Linalg is a basic linear algebra library that supports all the basic matrix operations such as additional, matrix multiplication, transpose, inverse, determinants and more. \n",
    "It also supports matrix slicing like numpy and can be used to create many statistical models like linear regression, PCA, and even neural networks."
   ]
  },
  {
   "cell_type": "code",
   "execution_count": 1,
   "id": "fd003450-6423-48cb-b846-1eb12f08ad74",
   "metadata": {},
   "outputs": [],
   "source": [
    "import numpy as np\n",
    "import linalg\n",
    "import seaborn as sns\n",
    "import matplotlib.pyplot as plt\n",
    "np.random.seed(42)"
   ]
  },
  {
   "cell_type": "code",
   "execution_count": null,
   "id": "bcd94af5-1f50-4b31-9de9-16cd9bcc5417",
   "metadata": {},
   "outputs": [],
   "source": [
    "# Creating a matrix\n",
    "a = linalg.Matrix([1, 2, 3, 4], rows=2)\n",
    "print(a)"
   ]
  },
  {
   "cell_type": "code",
   "execution_count": null,
   "id": "a58b577f-5e53-4ddd-a32f-4d275777f05d",
   "metadata": {},
   "outputs": [],
   "source": [
    "# Explicit error handling for invalid matrices\n",
    "# Cannot have a matrix of this size\n",
    "a = linalg.Matrix([1, 2, 3, 4, 5], rows=2)"
   ]
  },
  {
   "cell_type": "code",
   "execution_count": null,
   "id": "8e65c60e-14ce-4f00-96d2-ba551f483647",
   "metadata": {},
   "outputs": [],
   "source": [
    "# Basic matrix operations\n",
    "a = linalg.Matrix([1, 2, 3, 4], rows=2)\n",
    "b = linalg.Matrix.identity(2)\n",
    "\n",
    "# Addition\n",
    "print(\"Addition Result:\")\n",
    "print(a + b)\n",
    "print()\n",
    "\n",
    "# Subtraction\n",
    "print(\"Subtraction Result:\")\n",
    "print(a - b)\n",
    "print()\n",
    "\n",
    "# Scalar multiplication\n",
    "print(\"Multiplication Result:\")\n",
    "print(b * 5)\n",
    "print()\n",
    "\n",
    "# Transpose\n",
    "print(\"Transpose Result:\")\n",
    "print(a.transpose())"
   ]
  },
  {
   "cell_type": "code",
   "execution_count": null,
   "id": "56d3e27b-f9f4-4ee2-b66f-6bb59cd3ae94",
   "metadata": {},
   "outputs": [],
   "source": [
    "# Other matrix operations\n",
    "# Matrix multiplication\n",
    "print(\"Matmul Result:\")\n",
    "print(a @ b)\n",
    "print()\n",
    "\n",
    "elimination, steps = a.gaussian_elimination()\n",
    "# Gaussian Elimination\n",
    "print(\"Elimiation Result:\")\n",
    "print(elimination)\n",
    "print()\n",
    "\n",
    "elimination, steps = a.gaussian_elimination(rref=True)\n",
    "# Gaussian Elimination in RREF\n",
    "print(\"Elimiation Result:\")\n",
    "print(elimination)\n",
    "print()"
   ]
  },
  {
   "cell_type": "code",
   "execution_count": null,
   "id": "452a70d1-5e78-4b7d-a694-388c666f257b",
   "metadata": {},
   "outputs": [],
   "source": [
    "# Determinant\n",
    "print(\"Determinant:\")\n",
    "print(a.det())\n",
    "print()\n",
    "\n",
    "# Inverse\n",
    "a_inv = a.inverse()\n",
    "print(\"Inverse:\")\n",
    "print(a_inv)\n",
    "print()\n",
    "\n",
    "# Results in identity matrix\n",
    "print(\"Inverse Result (Matrix multiplied by Inverse should be identity):\")\n",
    "print(\"a @ b\")\n",
    "print(a_inv @ a)\n",
    "print()\n",
    "\n"
   ]
  },
  {
   "cell_type": "code",
   "execution_count": null,
   "id": "cf9361c8-4fc8-4757-9a31-5398c8f32092",
   "metadata": {},
   "outputs": [],
   "source": [
    "# LU Decomposition\n",
    "L, U = a.lu_decomp()\n",
    "print(\"L Matrix:\")\n",
    "print(L)\n",
    "print()\n",
    "\n",
    "print(\"U Matrix:\")\n",
    "print(U)\n",
    "print()\n",
    "\n",
    "# Multiplication should result in original matrix\n",
    "print(\"LU Decomposition Result (L * U should be original matrix):\")\n",
    "print(L @ U)\n",
    "print()\n",
    "\n",
    "print(\"Original Matrix:\")\n",
    "print(a)"
   ]
  },
  {
   "cell_type": "code",
   "execution_count": null,
   "id": "57000bf7-cfb1-435d-970d-a911edcf29f8",
   "metadata": {},
   "outputs": [],
   "source": [
    "# Works on matrices of any size\n",
    "rand_data = np.random.randint(100, size=100).tolist()\n",
    "a = linalg.Matrix(rand_data, rows=10)\n",
    "\n",
    "elimination, steps = a.gaussian_elimination(rref=True)\n",
    "# Gaussian Elimination in RREF\n",
    "print(\"Elimiation Result:\")\n",
    "print(elimination)\n",
    "print()\n",
    "\n",
    "# Inverse\n",
    "a_inv = a.inverse()\n",
    "print(\"Inverse:\")\n",
    "print(a_inv)\n",
    "print()\n",
    "\n",
    "# Results in identity matrix\n",
    "print(\"Inverse Result (Matrix multiplied by Inverse should be approximately identity):\")\n",
    "print(\"a @ b\")\n",
    "print(a_inv @ a)"
   ]
  },
  {
   "cell_type": "code",
   "execution_count": null,
   "id": "9519fa07-cc23-47aa-86ed-5ee9994ca498",
   "metadata": {},
   "outputs": [],
   "source": [
    "# Slicing\n",
    "a = linalg.Matrix([1, 2, 3, 4, 5, 6, 7, 8, 9], rows=3)\n",
    "\n",
    "print(\"Original Matrix\")\n",
    "print(a)\n",
    "print()\n",
    "\n",
    "# Get all second column\n",
    "print(\"Second Column\")\n",
    "print(a[:, 1])\n",
    "print()\n",
    "\n",
    "# Get all in second to third column\n",
    "print(\"Second to Third Column\")\n",
    "print(a[:, 1:3])\n",
    "print()\n",
    "\n",
    "# Get all in first two rows\n",
    "print(\"First two rows\")\n",
    "print(a[:, 1:3])\n",
    "print(a[:2])\n",
    "print()\n",
    "\n",
    "# Get single element\n",
    "print(\"Single element\")\n",
    "print(a[1, 1])"
   ]
  },
  {
   "cell_type": "markdown",
   "id": "136b90ad-43d7-461d-91fb-6a3338a7121a",
   "metadata": {},
   "source": [
    "# Library Applications\n",
    "## Linear Regression and Ordinary Least Squares\n",
    "\n",
    "Linear regression is one of most widely used techniques in statistics and machine learning, and has many real world applications in modeling. Calculating regression lines is very simple with linear algebra with the formula,\n",
    "\n",
    "$$\n",
    "W=(X^TX)^{-1}X^Ty\n",
    "$$\n",
    "\n",
    "Where $W$ is the matrix with the parameters where the first element is the intercept and second is the slope. $X$ is the matrix of features and $y$ is the target variable."
   ]
  },
  {
   "cell_type": "code",
   "execution_count": 8,
   "id": "abe6023d-d104-47a4-a51b-7977a9992427",
   "metadata": {},
   "outputs": [
    {
     "name": "stdout",
     "output_type": "stream",
     "text": [
      "Matrix([1.144]\n",
      "       [4.865], rows=2, cols=1)\n"
     ]
    }
   ],
   "source": [
    "# Generate random data\n",
    "x = np.linspace(0, 10, 20)\n",
    "y = (5 * x + 1 + np.random.normal(0, 2, size=x.shape).tolist())\n",
    "\n",
    "# Convert into flat list\n",
    "# X are vectors (1, x) for the intercept term\n",
    "data = [(1, float(n)) for n in x]\n",
    "data_unflat = []\n",
    "for d1, d2 in data:\n",
    "    data_unflat.extend([d1, d2])\n",
    "\n",
    "# Create our matrices\n",
    "X = linalg.Matrix(data_unflat, rows=len(x))\n",
    "\n",
    "# Convert y into a vector\n",
    "Y = linalg.Matrix(y, rows=len(y))\n",
    "\n",
    "# Calculate the parameters\n",
    "W = ((X.transpose() @ X).inverse() @ X.transpose()) @ Y\n",
    "print(W)"
   ]
  },
  {
   "cell_type": "code",
   "execution_count": 7,
   "id": "5a68c486-ad90-47e2-a3a6-d6d920e828fa",
   "metadata": {},
   "outputs": [
    {
     "data": {
      "image/png": "[encoded data removed]",
      "text/plain": [
       "<Figure size 800x600 with 1 Axes>"
      ]
     },
     "metadata": {},
     "output_type": "display_data"
    }
   ],
   "source": [
    "slope = W[1, 0].data[0][0]\n",
    "intercept = W[0, 0].data[0][0]\n",
    "\n",
    "y_pred = [n * slope + intercept for n in x]\n",
    "\n",
    "# Plot the data and the fitted line\n",
    "plt.figure(figsize=(8, 6))\n",
    "sns.scatterplot(x=x, y=y)\n",
    "plt.plot(x, y_pred, color='red', label=f'Fitted line: y = {slope:.2f}x + {intercept:.2f}', lw=2)\n",
    "plt.xlabel('x')\n",
    "plt.ylabel('y')\n",
    "plt.title('Ordinary Least Squares Regression with linalg')\n",
    "plt.legend()\n",
    "plt.show()"
   ]
  }
 ],
 "metadata": {
  "kernelspec": {
   "display_name": "Python 3 (ipykernel)",
   "language": "python",
   "name": "python3"
  },
  "language_info": {
   "codemirror_mode": {
    "name": "ipython",
    "version": 3
   },
   "file_extension": ".py",
   "mimetype": "text/x-python",
   "name": "python",
   "nbconvert_exporter": "python",
   "pygments_lexer": "ipython3",
   "version": "3.12.3"
  }
 },
 "nbformat": 4,
 "nbformat_minor": 5
}
